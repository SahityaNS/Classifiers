{
 "cells": [
  {
   "cell_type": "code",
   "execution_count": 21,
   "metadata": {},
   "outputs": [],
   "source": [
    "# Importing the libraries\n",
    "\n",
    "import numpy as np\n",
    "import matplotlib.pyplot as plt\n",
    "import pandas as pd"
   ]
  },
  {
   "cell_type": "code",
   "execution_count": 22,
   "metadata": {},
   "outputs": [
    {
     "data": {
      "text/html": [
       "<div>\n",
       "<style scoped>\n",
       "    .dataframe tbody tr th:only-of-type {\n",
       "        vertical-align: middle;\n",
       "    }\n",
       "\n",
       "    .dataframe tbody tr th {\n",
       "        vertical-align: top;\n",
       "    }\n",
       "\n",
       "    .dataframe thead th {\n",
       "        text-align: right;\n",
       "    }\n",
       "</style>\n",
       "<table border=\"1\" class=\"dataframe\">\n",
       "  <thead>\n",
       "    <tr style=\"text-align: right;\">\n",
       "      <th></th>\n",
       "      <th>Unnamed: 0</th>\n",
       "      <th>naffairs</th>\n",
       "      <th>kids</th>\n",
       "      <th>vryunhap</th>\n",
       "      <th>unhap</th>\n",
       "      <th>avgmarr</th>\n",
       "      <th>hapavg</th>\n",
       "      <th>vryhap</th>\n",
       "      <th>antirel</th>\n",
       "      <th>notrel</th>\n",
       "      <th>slghtrel</th>\n",
       "      <th>smerel</th>\n",
       "      <th>vryrel</th>\n",
       "      <th>yrsmarr1</th>\n",
       "      <th>yrsmarr2</th>\n",
       "      <th>yrsmarr3</th>\n",
       "      <th>yrsmarr4</th>\n",
       "      <th>yrsmarr5</th>\n",
       "      <th>yrsmarr6</th>\n",
       "    </tr>\n",
       "  </thead>\n",
       "  <tbody>\n",
       "    <tr>\n",
       "      <td>0</td>\n",
       "      <td>1</td>\n",
       "      <td>0</td>\n",
       "      <td>0</td>\n",
       "      <td>0</td>\n",
       "      <td>0</td>\n",
       "      <td>0</td>\n",
       "      <td>1</td>\n",
       "      <td>0</td>\n",
       "      <td>0</td>\n",
       "      <td>0</td>\n",
       "      <td>1</td>\n",
       "      <td>0</td>\n",
       "      <td>0</td>\n",
       "      <td>0</td>\n",
       "      <td>0</td>\n",
       "      <td>0</td>\n",
       "      <td>0</td>\n",
       "      <td>1</td>\n",
       "      <td>0</td>\n",
       "    </tr>\n",
       "    <tr>\n",
       "      <td>1</td>\n",
       "      <td>2</td>\n",
       "      <td>0</td>\n",
       "      <td>0</td>\n",
       "      <td>0</td>\n",
       "      <td>0</td>\n",
       "      <td>0</td>\n",
       "      <td>1</td>\n",
       "      <td>0</td>\n",
       "      <td>0</td>\n",
       "      <td>0</td>\n",
       "      <td>0</td>\n",
       "      <td>1</td>\n",
       "      <td>0</td>\n",
       "      <td>0</td>\n",
       "      <td>0</td>\n",
       "      <td>1</td>\n",
       "      <td>0</td>\n",
       "      <td>0</td>\n",
       "      <td>0</td>\n",
       "    </tr>\n",
       "    <tr>\n",
       "      <td>2</td>\n",
       "      <td>3</td>\n",
       "      <td>3</td>\n",
       "      <td>0</td>\n",
       "      <td>0</td>\n",
       "      <td>0</td>\n",
       "      <td>0</td>\n",
       "      <td>1</td>\n",
       "      <td>0</td>\n",
       "      <td>0</td>\n",
       "      <td>0</td>\n",
       "      <td>1</td>\n",
       "      <td>0</td>\n",
       "      <td>0</td>\n",
       "      <td>0</td>\n",
       "      <td>1</td>\n",
       "      <td>0</td>\n",
       "      <td>0</td>\n",
       "      <td>0</td>\n",
       "      <td>0</td>\n",
       "    </tr>\n",
       "    <tr>\n",
       "      <td>3</td>\n",
       "      <td>4</td>\n",
       "      <td>0</td>\n",
       "      <td>1</td>\n",
       "      <td>0</td>\n",
       "      <td>0</td>\n",
       "      <td>0</td>\n",
       "      <td>1</td>\n",
       "      <td>0</td>\n",
       "      <td>1</td>\n",
       "      <td>0</td>\n",
       "      <td>0</td>\n",
       "      <td>0</td>\n",
       "      <td>0</td>\n",
       "      <td>0</td>\n",
       "      <td>0</td>\n",
       "      <td>0</td>\n",
       "      <td>0</td>\n",
       "      <td>0</td>\n",
       "      <td>1</td>\n",
       "    </tr>\n",
       "    <tr>\n",
       "      <td>4</td>\n",
       "      <td>5</td>\n",
       "      <td>3</td>\n",
       "      <td>1</td>\n",
       "      <td>0</td>\n",
       "      <td>0</td>\n",
       "      <td>0</td>\n",
       "      <td>0</td>\n",
       "      <td>1</td>\n",
       "      <td>0</td>\n",
       "      <td>0</td>\n",
       "      <td>1</td>\n",
       "      <td>0</td>\n",
       "      <td>0</td>\n",
       "      <td>0</td>\n",
       "      <td>0</td>\n",
       "      <td>1</td>\n",
       "      <td>0</td>\n",
       "      <td>0</td>\n",
       "      <td>0</td>\n",
       "    </tr>\n",
       "  </tbody>\n",
       "</table>\n",
       "</div>"
      ],
      "text/plain": [
       "   Unnamed: 0  naffairs  kids  vryunhap  unhap  avgmarr  hapavg  vryhap  \\\n",
       "0           1         0     0         0      0        0       1       0   \n",
       "1           2         0     0         0      0        0       1       0   \n",
       "2           3         3     0         0      0        0       1       0   \n",
       "3           4         0     1         0      0        0       1       0   \n",
       "4           5         3     1         0      0        0       0       1   \n",
       "\n",
       "   antirel  notrel  slghtrel  smerel  vryrel  yrsmarr1  yrsmarr2  yrsmarr3  \\\n",
       "0        0       0         1       0       0         0         0         0   \n",
       "1        0       0         0       1       0         0         0         1   \n",
       "2        0       0         1       0       0         0         1         0   \n",
       "3        1       0         0       0       0         0         0         0   \n",
       "4        0       0         1       0       0         0         0         1   \n",
       "\n",
       "   yrsmarr4  yrsmarr5  yrsmarr6  \n",
       "0         0         1         0  \n",
       "1         0         0         0  \n",
       "2         0         0         0  \n",
       "3         0         0         1  \n",
       "4         0         0         0  "
      ]
     },
     "execution_count": 22,
     "metadata": {},
     "output_type": "execute_result"
    }
   ],
   "source": [
    "# Importing the dataset\n",
    "\n",
    "dataset = pd.read_csv('/Users/sahitya/Desktop/Untitled Folder/Affairs.csv')\n",
    "dataset.head()"
   ]
  },
  {
   "cell_type": "code",
   "execution_count": 23,
   "metadata": {},
   "outputs": [],
   "source": [
    "#creating bins and encoding \n",
    "\n",
    "bins = [-10, 0 , 25]\n",
    "labels =[0,1]\n",
    "dataset['naffairs'] = pd.cut(dataset['naffairs'], bins, labels = labels)"
   ]
  },
  {
   "cell_type": "code",
   "execution_count": 24,
   "metadata": {},
   "outputs": [],
   "source": [
    "# Specifying independent and dependent variables\n",
    "\n",
    "Y = dataset.naffairs\n",
    "\n",
    "X = dataset.drop(['naffairs'], axis = 1)"
   ]
  },
  {
   "cell_type": "code",
   "execution_count": 25,
   "metadata": {},
   "outputs": [
    {
     "name": "stdout",
     "output_type": "stream",
     "text": [
      "     Unnamed: 0  kids  vryunhap  unhap  avgmarr  hapavg  vryhap  antirel  \\\n",
      "120         121     0         0      0        1       0       0        0   \n",
      "277         278     0         0      0        0       0       1        1   \n",
      "108         109     1         0      0        1       0       0        0   \n",
      "569         570     1         0      0        0       1       0        0   \n",
      "361         362     1         0      0        0       0       1        0   \n",
      "..          ...   ...       ...    ...      ...     ...     ...      ...   \n",
      "339         340     1         0      0        0       0       1        0   \n",
      "477         478     1         0      0        0       0       1        0   \n",
      "200         201     1         0      0        0       1       0        0   \n",
      "398         399     0         0      0        0       0       1        0   \n",
      "164         165     0         0      0        0       0       1        0   \n",
      "\n",
      "     notrel  slghtrel  smerel  vryrel  yrsmarr1  yrsmarr2  yrsmarr3  yrsmarr4  \\\n",
      "120       0         0       1       0         0         0         1         0   \n",
      "277       0         0       0       0         0         1         0         0   \n",
      "108       0         0       1       0         0         0         0         0   \n",
      "569       0         0       1       0         0         0         0         1   \n",
      "361       0         0       1       0         0         0         0         1   \n",
      "..      ...       ...     ...     ...       ...       ...       ...       ...   \n",
      "339       0         0       1       0         0         0         0         1   \n",
      "477       0         0       1       0         0         0         0         0   \n",
      "200       1         0       0       0         0         0         0         0   \n",
      "398       1         0       0       0         0         0         1         0   \n",
      "164       0         0       1       0         0         0         0         0   \n",
      "\n",
      "     yrsmarr5  yrsmarr6  \n",
      "120         0         0  \n",
      "277         0         0  \n",
      "108         0         1  \n",
      "569         0         0  \n",
      "361         0         0  \n",
      "..        ...       ...  \n",
      "339         0         0  \n",
      "477         0         1  \n",
      "200         0         1  \n",
      "398         0         0  \n",
      "164         0         1  \n",
      "\n",
      "[480 rows x 18 columns]\n",
      "120    0\n",
      "277    0\n",
      "108    0\n",
      "569    0\n",
      "361    1\n",
      "      ..\n",
      "339    0\n",
      "477    0\n",
      "200    0\n",
      "398    0\n",
      "164    0\n",
      "Name: naffairs, Length: 480, dtype: category\n",
      "Categories (2, int64): [0 < 1]\n",
      "     Unnamed: 0  kids  vryunhap  unhap  avgmarr  hapavg  vryhap  antirel  \\\n",
      "431         432     1         0      0        0       0       1        0   \n",
      "322         323     1         0      0        0       0       1        0   \n",
      "252         253     0         0      0        0       0       1        0   \n",
      "495         496     1         0      0        0       0       1        0   \n",
      "142         143     1         0      0        0       1       0        0   \n",
      "..          ...   ...       ...    ...      ...     ...     ...      ...   \n",
      "349         350     1         0      0        0       0       1        0   \n",
      "166         167     0         0      0        0       1       0        0   \n",
      "552         553     0         0      0        0       0       1        0   \n",
      "481         482     1         0      0        0       0       1        0   \n",
      "494         495     0         0      0        0       0       1        0   \n",
      "\n",
      "     notrel  slghtrel  smerel  vryrel  yrsmarr1  yrsmarr2  yrsmarr3  yrsmarr4  \\\n",
      "431       0         0       0       1         0         0         0         0   \n",
      "322       0         0       0       1         0         0         0         0   \n",
      "252       0         1       0       0         1         0         0         0   \n",
      "495       1         0       0       0         0         1         0         0   \n",
      "142       1         0       0       0         0         0         0         0   \n",
      "..      ...       ...     ...     ...       ...       ...       ...       ...   \n",
      "349       1         0       0       0         0         0         0         1   \n",
      "166       0         0       0       1         0         0         0         0   \n",
      "552       0         1       0       0         0         1         0         0   \n",
      "481       0         0       1       0         0         0         0         1   \n",
      "494       0         1       0       0         1         0         0         0   \n",
      "\n",
      "     yrsmarr5  yrsmarr6  \n",
      "431         1         0  \n",
      "322         0         1  \n",
      "252         0         0  \n",
      "495         0         0  \n",
      "142         1         0  \n",
      "..        ...       ...  \n",
      "349         0         0  \n",
      "166         1         0  \n",
      "552         0         0  \n",
      "481         0         0  \n",
      "494         0         0  \n",
      "\n",
      "[121 rows x 18 columns]\n",
      "431    0\n",
      "322    0\n",
      "252    0\n",
      "495    0\n",
      "142    0\n",
      "      ..\n",
      "349    0\n",
      "166    0\n",
      "552    0\n",
      "481    0\n",
      "494    0\n",
      "Name: naffairs, Length: 121, dtype: category\n",
      "Categories (2, int64): [0 < 1]\n"
     ]
    }
   ],
   "source": [
    "# Splitting the dataset\n",
    "from sklearn.model_selection import train_test_split\n",
    "X_train, X_test, y_train, y_test = train_test_split(X, Y, test_size = 0.2)\n",
    "\n",
    "print(X_train)\n",
    "print(y_train)\n",
    "print(X_test)\n",
    "print(y_test)\n"
   ]
  },
  {
   "cell_type": "code",
   "execution_count": 26,
   "metadata": {},
   "outputs": [],
   "source": [
    "#feature scaling\n",
    "\n",
    "from sklearn.preprocessing import StandardScaler\n",
    "sc = StandardScaler()\n",
    "X_train = sc.fit_transform(X_train)\n",
    "X_test = sc.transform(X_test)"
   ]
  },
  {
   "cell_type": "markdown",
   "metadata": {},
   "source": [
    "# Logistic Regression"
   ]
  },
  {
   "cell_type": "code",
   "execution_count": 27,
   "metadata": {},
   "outputs": [
    {
     "name": "stdout",
     "output_type": "stream",
     "text": [
      "[[89  4]\n",
      " [24  4]]\n"
     ]
    },
    {
     "name": "stderr",
     "output_type": "stream",
     "text": [
      "/Users/sahitya/opt/anaconda3/lib/python3.7/site-packages/sklearn/linear_model/logistic.py:432: FutureWarning: Default solver will be changed to 'lbfgs' in 0.22. Specify a solver to silence this warning.\n",
      "  FutureWarning)\n"
     ]
    }
   ],
   "source": [
    "#Training the model\n",
    "\n",
    "from sklearn.linear_model import LogisticRegression\n",
    "logistic_classifier = LogisticRegression(random_state = 0)\n",
    "logistic_classifier.fit(X_train, y_train)\n",
    "\n",
    "# Predicting the Test set results\n",
    "\n",
    "y_pred = logistic_classifier.predict(X_test)\n",
    "\n",
    "#making the condusion matrix\n",
    "\n",
    "from sklearn.metrics import confusion_matrix\n",
    "cm = confusion_matrix(y_test, y_pred)\n",
    "print(cm)"
   ]
  },
  {
   "cell_type": "code",
   "execution_count": 29,
   "metadata": {},
   "outputs": [
    {
     "name": "stdout",
     "output_type": "stream",
     "text": [
      "0.768595041322314\n"
     ]
    }
   ],
   "source": [
    "accuracy = (89 + 4)/(89+4+24+4)\n",
    "print(accuracy)"
   ]
  },
  {
   "cell_type": "markdown",
   "metadata": {},
   "source": [
    "Accuracy = 0.768"
   ]
  },
  {
   "cell_type": "markdown",
   "metadata": {},
   "source": [
    "# K nearest neighbours "
   ]
  },
  {
   "cell_type": "code",
   "execution_count": 30,
   "metadata": {},
   "outputs": [
    {
     "name": "stdout",
     "output_type": "stream",
     "text": [
      "[[80 13]\n",
      " [25  3]]\n"
     ]
    }
   ],
   "source": [
    "# Training the K-NN model on the Training set\n",
    "\n",
    "from sklearn.neighbors import KNeighborsClassifier\n",
    "KNN_classifier = KNeighborsClassifier(n_neighbors = 5, metric = 'minkowski', p = 2)\n",
    "KNN_classifier.fit(X_train, y_train)\n",
    "\n",
    "# Predicting the Test set results\n",
    "\n",
    "KNN_y_pred = KNN_classifier.predict(X_test)\n",
    "\n",
    "#making the condusion matrix\n",
    "\n",
    "from sklearn.metrics import confusion_matrix\n",
    "cm = confusion_matrix(y_test, KNN_y_pred)\n",
    "print(cm)\n"
   ]
  },
  {
   "cell_type": "code",
   "execution_count": 31,
   "metadata": {},
   "outputs": [
    {
     "name": "stdout",
     "output_type": "stream",
     "text": [
      "0.6859504132231405\n"
     ]
    }
   ],
   "source": [
    "accuracy = (80 + 3)/(80 + 13 + 25+3)\n",
    "print(accuracy)"
   ]
  },
  {
   "cell_type": "markdown",
   "metadata": {},
   "source": [
    "Accuracy = 0.685"
   ]
  },
  {
   "cell_type": "markdown",
   "metadata": {},
   "source": [
    "# SVM"
   ]
  },
  {
   "cell_type": "code",
   "execution_count": 32,
   "metadata": {},
   "outputs": [
    {
     "name": "stdout",
     "output_type": "stream",
     "text": [
      "[[83 10]\n",
      " [21  7]]\n"
     ]
    }
   ],
   "source": [
    "# Training the SVM model on the Training set\n",
    "\n",
    "from sklearn.svm import SVC\n",
    "SVC_classifier = SVC(kernel = 'linear', random_state = 0)\n",
    "SVC_classifier.fit(X_train, y_train)\n",
    "\n",
    "# Predicting the Test set results\n",
    "\n",
    "SVC_y_pred = SVC_classifier.predict(X_test)\n",
    "\n",
    "# Making the Confusion Matrix\n",
    "\n",
    "from sklearn.metrics import confusion_matrix\n",
    "cm = confusion_matrix(y_test, SVC_y_pred)\n",
    "print(cm)\n"
   ]
  },
  {
   "cell_type": "code",
   "execution_count": 33,
   "metadata": {},
   "outputs": [
    {
     "name": "stdout",
     "output_type": "stream",
     "text": [
      "0.743801652892562\n"
     ]
    }
   ],
   "source": [
    "accuracy = (83+7)/(83+10+21+7)\n",
    "print(accuracy)"
   ]
  },
  {
   "cell_type": "markdown",
   "metadata": {},
   "source": [
    "Accuracy = 0.743"
   ]
  },
  {
   "cell_type": "markdown",
   "metadata": {},
   "source": [
    "# Kernal SVM"
   ]
  },
  {
   "cell_type": "code",
   "execution_count": 34,
   "metadata": {},
   "outputs": [
    {
     "name": "stdout",
     "output_type": "stream",
     "text": [
      "[[92  1]\n",
      " [25  3]]\n"
     ]
    }
   ],
   "source": [
    "# Training the Kernel SVM model on the Training set\n",
    "\n",
    "from sklearn.svm import SVC\n",
    "rbf_classifier = SVC(kernel = 'rbf', random_state = 0)\n",
    "rbf_classifier.fit(X_train, y_train)\n",
    "\n",
    "# Predicting the Test set results\n",
    "\n",
    "rbf_y_pred = rbf_classifier.predict(X_test)\n",
    "\n",
    "# Making the Confusion Matrix\n",
    "\n",
    "from sklearn.metrics import confusion_matrix\n",
    "cm = confusion_matrix(y_test, rbf_y_pred)\n",
    "print(cm)\n"
   ]
  },
  {
   "cell_type": "code",
   "execution_count": 35,
   "metadata": {},
   "outputs": [
    {
     "name": "stdout",
     "output_type": "stream",
     "text": [
      "0.7851239669421488\n"
     ]
    }
   ],
   "source": [
    "accuracy = (92+3)/(92+1+25+3)\n",
    "print(accuracy)"
   ]
  },
  {
   "cell_type": "markdown",
   "metadata": {},
   "source": [
    "Accuracy = 0.785"
   ]
  },
  {
   "cell_type": "markdown",
   "metadata": {},
   "source": [
    "# Naive Bayes classification"
   ]
  },
  {
   "cell_type": "code",
   "execution_count": 37,
   "metadata": {},
   "outputs": [
    {
     "name": "stdout",
     "output_type": "stream",
     "text": [
      "[[67 26]\n",
      " [18 10]]\n"
     ]
    }
   ],
   "source": [
    "# Training the Naive Bayes model on the Training set\n",
    "\n",
    "from sklearn.naive_bayes import GaussianNB\n",
    "NB_classifier = GaussianNB()\n",
    "NB_classifier.fit(X_train, y_train)\n",
    "\n",
    "# Predicting the Test set results\n",
    "\n",
    "NB_y_pred = NB_classifier.predict(X_test)\n",
    "\n",
    "# Making the Confusion Matrix\n",
    "\n",
    "from sklearn.metrics import confusion_matrix\n",
    "cm = confusion_matrix(y_test, NB_y_pred)\n",
    "print(cm)\n"
   ]
  },
  {
   "cell_type": "code",
   "execution_count": 38,
   "metadata": {},
   "outputs": [
    {
     "name": "stdout",
     "output_type": "stream",
     "text": [
      "0.6363636363636364\n"
     ]
    }
   ],
   "source": [
    "accuracy = (67+10)/(67+26+18+10)\n",
    "print(accuracy)"
   ]
  },
  {
   "cell_type": "markdown",
   "metadata": {},
   "source": [
    "Accuracy = 0.636"
   ]
  },
  {
   "cell_type": "markdown",
   "metadata": {},
   "source": [
    "# Decision tree"
   ]
  },
  {
   "cell_type": "code",
   "execution_count": 39,
   "metadata": {},
   "outputs": [
    {
     "name": "stdout",
     "output_type": "stream",
     "text": [
      "[[71 22]\n",
      " [19  9]]\n"
     ]
    }
   ],
   "source": [
    "# Training the Decision Tree Classification model on the Training set\n",
    "\n",
    "from sklearn.tree import DecisionTreeClassifier\n",
    "DT_classifier = DecisionTreeClassifier(criterion = 'entropy', random_state = 0)\n",
    "DT_classifier.fit(X_train, y_train)\n",
    "\n",
    "# Predicting the Test set results\n",
    "\n",
    "DT_y_pred = DT_classifier.predict(X_test)\n",
    "\n",
    "# Making the Confusion Matrix\n",
    "\n",
    "from sklearn.metrics import confusion_matrix\n",
    "cm = confusion_matrix(y_test, DT_y_pred)\n",
    "print(cm)\n",
    "\n"
   ]
  },
  {
   "cell_type": "code",
   "execution_count": 40,
   "metadata": {},
   "outputs": [
    {
     "name": "stdout",
     "output_type": "stream",
     "text": [
      "0.6611570247933884\n"
     ]
    }
   ],
   "source": [
    "accuracy = (71+9)/(71+22+19+9)\n",
    "print(accuracy)"
   ]
  },
  {
   "cell_type": "markdown",
   "metadata": {},
   "source": [
    "Accuracy = 0.661"
   ]
  },
  {
   "cell_type": "markdown",
   "metadata": {},
   "source": [
    "# Random Forest"
   ]
  },
  {
   "cell_type": "code",
   "execution_count": 41,
   "metadata": {},
   "outputs": [
    {
     "name": "stdout",
     "output_type": "stream",
     "text": [
      "[[78 15]\n",
      " [20  8]]\n"
     ]
    }
   ],
   "source": [
    "# Training the Random Forest Classification model on the Training set\n",
    "\n",
    "from sklearn.ensemble import RandomForestClassifier\n",
    "RF_classifier = RandomForestClassifier(n_estimators = 10, criterion = 'entropy', random_state = 0)\n",
    "RF_classifier.fit(X_train, y_train)\n",
    "\n",
    "# Predicting the Test set results\n",
    "\n",
    "RF_y_pred = RF_classifier.predict(X_test)\n",
    "\n",
    "# Making the Confusion Matrix\n",
    "\n",
    "from sklearn.metrics import confusion_matrix\n",
    "cm = confusion_matrix(y_test, RF_y_pred)\n",
    "print(cm)\n"
   ]
  },
  {
   "cell_type": "code",
   "execution_count": 42,
   "metadata": {},
   "outputs": [
    {
     "name": "stdout",
     "output_type": "stream",
     "text": [
      "0.7107438016528925\n"
     ]
    }
   ],
   "source": [
    "accuracy = (78+8)/(78+15+20+8)\n",
    "print(accuracy)"
   ]
  },
  {
   "cell_type": "markdown",
   "metadata": {},
   "source": [
    "Accuracy = 0.710"
   ]
  }
 ],
 "metadata": {
  "kernelspec": {
   "display_name": "Python 3",
   "language": "python",
   "name": "python3"
  },
  "language_info": {
   "codemirror_mode": {
    "name": "ipython",
    "version": 3
   },
   "file_extension": ".py",
   "mimetype": "text/x-python",
   "name": "python",
   "nbconvert_exporter": "python",
   "pygments_lexer": "ipython3",
   "version": "3.7.4"
  }
 },
 "nbformat": 4,
 "nbformat_minor": 2
}
